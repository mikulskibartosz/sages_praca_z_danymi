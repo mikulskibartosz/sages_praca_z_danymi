{
  "nbformat": 4,
  "nbformat_minor": 0,
  "metadata": {
    "colab": {
      "provenance": []
    },
    "kernelspec": {
      "name": "python3",
      "display_name": "Python 3"
    },
    "language_info": {
      "name": "python"
    }
  },
  "cells": [
    {
      "cell_type": "markdown",
      "source": [
        "# Sages: Praca z danymi w Pythonie\n",
        "\n",
        "Zakres zajęć:\n",
        "* Biblioteka numpy - tablice i obliczenia zwektoryzowane\n",
        "* Biblioteka pandas - przetwarzanie danych tabelarycznych\n",
        "* Biblioteka matplotlib - wizualizacja danych\n",
        "\n",
        "```\n",
        "Draft:\n",
        "\n",
        "* Jupyter - zajęcia w jupyterze, króciótkie pokazanie podstawowych funkcjonalności\n",
        "* Numpy - zapoznanie z wektoryzacją, uwzględnić broadcastnig, logika operowania na brakach danych, najpopularniejsze użyteczene funkcje.\n",
        "* Pandas - oprócz ogólnego przerobienia, można zwrócić uwagę na jakieś wydajnościowe aspekty (aspekty wydajnościowe i pamięciowe? ciekawe aspekty: https://towardsdatascience.com/five-killer-optimization-techniques-every-pandas-user-should-know-266662bd1163). Chyba istotna jest kwestia kopiowania danych vs modyfikacji wejściowej ramki.\n",
        "* Matplotlib - abolutne minimum. Chcemy tylko zajawić mechanizm komponowania wizualizacji przy użyciu kodu i pokazać automatyzacje generownaia wykresów.\n",
        "```"
      ],
      "metadata": {
        "id": "16YhAu1IkJbl"
      }
    },
    {
      "cell_type": "markdown",
      "source": [
        "## 1. Jupyter Notebook\n",
        "\n",
        "### Pierwsze uruchomienie\n",
        "\n",
        "0. Utworzenie virtual env `python3 -m venv venv`, `source venv/bin/activate`\n",
        "1. Instalacja w virtual env: `pip3 install jupyter`.\n",
        "2. Uruchomienie `jupyter notebook`\n",
        "3. Widok katalogów w Jupyter\n",
        "4. Utworzenie nowego notebooka\n",
        "\n",
        "### Jupyter Notebook - kod\n",
        "\n",
        "1. Pisanie i uruchamianie kodu w Jupyter Notebook.\n",
        "2. Skróty klawiszowe.\n",
        "3. Dodawanie, usuwanie, przemieszczanie komórek.\n",
        "4. Kolejność uruchamiania ma znaczenie.\n",
        "\n",
        "### Jupyter Notebook - tekst\n",
        "\n",
        "1. Markdown - wprowadzenie (nagłówki, pogrubiony tekst, kursywa, listy, tabele)\n",
        "\n",
        "### Jupyter Notebook - kernel\n",
        "\n",
        "1. Stop, start, restart\n",
        "2. Interrupt\n",
        "3. Instalacja pakietów: `!pip install ...`"
      ],
      "metadata": {
        "id": "lo22WbFikTLv"
      }
    },
    {
      "cell_type": "markdown",
      "source": [
        "## Numpy\n",
        "\n",
        "### Instalacja"
      ],
      "metadata": {
        "id": "NeeDfbRunIot"
      }
    },
    {
      "cell_type": "code",
      "execution_count": 1,
      "metadata": {
        "colab": {
          "base_uri": "https://localhost:8080/"
        },
        "id": "lMuI1PHOkA-J",
        "outputId": "80dd0a66-7263-48c3-a01d-1514b13b3b66"
      },
      "outputs": [
        {
          "output_type": "stream",
          "name": "stdout",
          "text": [
            "Requirement already satisfied: numpy==1.26.0 in /usr/local/lib/python3.10/dist-packages (1.26.0)\n"
          ]
        }
      ],
      "source": [
        "!pip install numpy==1.26.0"
      ]
    },
    {
      "cell_type": "code",
      "source": [
        "import numpy as np"
      ],
      "metadata": {
        "id": "gW-HBea0n4M2"
      },
      "execution_count": 2,
      "outputs": []
    },
    {
      "cell_type": "code",
      "source": [
        "np.__version__"
      ],
      "metadata": {
        "colab": {
          "base_uri": "https://localhost:8080/",
          "height": 35
        },
        "id": "qRcCUNaWn_0q",
        "outputId": "4b2ba703-6f2e-4f58-985b-63e8d4c76180"
      },
      "execution_count": 3,
      "outputs": [
        {
          "output_type": "execute_result",
          "data": {
            "text/plain": [
              "'1.26.0'"
            ],
            "application/vnd.google.colaboratory.intrinsic+json": {
              "type": "string"
            }
          },
          "metadata": {},
          "execution_count": 3
        }
      ]
    },
    {
      "cell_type": "markdown",
      "source": [
        "### Zadania\n",
        "\n",
        "#### 1. Utwórz tablicę jednowymiarową zawierającą 10 elementów. Każdy z nich to 0. Wynik przypisz do zmiennej `arr1`"
      ],
      "metadata": {
        "id": "pMYUvldkq5Vk"
      }
    },
    {
      "cell_type": "code",
      "source": [
        "arr1 = np.zeros(10)\n",
        "\n",
        "assert np.all(arr1 == 0) and arr1.shape == (10,)"
      ],
      "metadata": {
        "id": "uwt8fHefoBlt"
      },
      "execution_count": 4,
      "outputs": []
    },
    {
      "cell_type": "markdown",
      "source": [
        "#### 2. Utwórz tablicę dwuwymiarową o wymiarach (3,4) zawierającą losowe wartości pomiędzy 0 i 9. Wynik przypisz do zmiennej `arr2`."
      ],
      "metadata": {
        "id": "Is80HD3MrQkN"
      }
    },
    {
      "cell_type": "code",
      "source": [
        "arr2 = np.random.randint(0, 10, (3, 4))\n",
        "\n",
        "assert arr2.shape == (3, 4) and np.all((arr2 >= 0) & (arr2 < 10))"
      ],
      "metadata": {
        "id": "MX1v8WuJrMqX"
      },
      "execution_count": 5,
      "outputs": []
    },
    {
      "cell_type": "markdown",
      "source": [
        "#### 3. Utwórz tablicę jednowymiarową liczb nieparzystych od 1 do 20. Wynik przypisz do zmiennej `arr3`"
      ],
      "metadata": {
        "id": "pVS3W7URuzms"
      }
    },
    {
      "cell_type": "code",
      "source": [
        "arr3 = np.arange(1, 21, 2)\n",
        "\n",
        "assert np.all(arr3 == np.array([1, 3, 5, 7, 9, 11, 13, 15, 17, 19]))"
      ],
      "metadata": {
        "id": "L2jrssgprihD"
      },
      "execution_count": 6,
      "outputs": []
    },
    {
      "cell_type": "markdown",
      "source": [
        "#### 4. Przypisz 5 pierwszych elementów tablicy `arr3` do zmiennej `first_5_elements`"
      ],
      "metadata": {
        "id": "wHdw1wEKvMJ5"
      }
    },
    {
      "cell_type": "code",
      "source": [
        "first_5_elements = arr3[:5]\n",
        "\n",
        "assert np.all(first_5_elements == np.array([1, 3, 5, 7, 9]))"
      ],
      "metadata": {
        "id": "UzNZTZCTvC84"
      },
      "execution_count": 7,
      "outputs": []
    },
    {
      "cell_type": "markdown",
      "source": [
        "#### 5. Zmień wymiary tablicy `arr2` na (4,3). Wynik przypisz do zmiennej `reshaped_arr2`"
      ],
      "metadata": {
        "id": "fDWXHcuUvY2b"
      }
    },
    {
      "cell_type": "code",
      "source": [
        "reshaped_arr2 = arr2.reshape(4, 3)\n",
        "\n",
        "assert reshaped_arr2.shape == (4, 3)"
      ],
      "metadata": {
        "id": "ayJJ9gUivX3T"
      },
      "execution_count": 8,
      "outputs": []
    },
    {
      "cell_type": "markdown",
      "source": [
        "### Operacje na tablicach\n",
        "\n",
        "#### 6. Stwórz macierz jednostkową o wymiarach 4x4."
      ],
      "metadata": {
        "id": "R-TAEiSqwMAK"
      }
    },
    {
      "cell_type": "code",
      "source": [
        "identity_matrix = np.identity(4)\n",
        "\n",
        "assert np.all(identity_matrix == np.eye(4)), \"Macierz powinna być macierzą jednostkową o wymiarach 4x4.\""
      ],
      "metadata": {
        "id": "GNYHiZlKvlMg"
      },
      "execution_count": 9,
      "outputs": []
    },
    {
      "cell_type": "markdown",
      "source": [
        "#### 7. Dodaj do macierzy jednostkowej kolumnę wypełnioną jedynkami"
      ],
      "metadata": {
        "id": "4YlnARTGwZoR"
      }
    },
    {
      "cell_type": "code",
      "source": [
        "ones_column = np.ones((4, 1))\n",
        "augmented_matrix = np.hstack((identity_matrix, ones_column))\n",
        "\n",
        "assert augmented_matrix.shape == (4, 5) and np.all(augmented_matrix[:, -1] == 1), \"Ostatnia kolumna powinna zawierać jedynki.\""
      ],
      "metadata": {
        "id": "LUwzSHz1wUJf"
      },
      "execution_count": 10,
      "outputs": []
    },
    {
      "cell_type": "markdown",
      "source": [
        "#### 8. Wyodrębnij wszystkie elementy przekątnej z oryginalnej macierzy jednostkowej."
      ],
      "metadata": {
        "id": "ftlJ1yfXwnWV"
      }
    },
    {
      "cell_type": "code",
      "source": [
        "diagonal_elements = np.diag(identity_matrix)\n",
        "\n",
        "assert np.all(diagonal_elements == 1), \"Wszystkie elementy przekątnej powinny być równie 1.\""
      ],
      "metadata": {
        "id": "bzlqei9Qwg3Z"
      },
      "execution_count": 11,
      "outputs": []
    },
    {
      "cell_type": "markdown",
      "source": [
        "#### 9. Utwórz macierz transponowaną"
      ],
      "metadata": {
        "id": "aaCgzTTWw-3v"
      }
    },
    {
      "cell_type": "code",
      "source": [
        "transposed_matrix = np.transpose(identity_matrix)\n",
        "\n",
        "assert np.all(transposed_matrix == identity_matrix), \"Transponowana macierz powinna być taka sama jak macierz jednostkowa.\""
      ],
      "metadata": {
        "id": "mmJ5WnB2wrAr"
      },
      "execution_count": 12,
      "outputs": []
    },
    {
      "cell_type": "markdown",
      "source": [
        "#### 10. Wybierz wszystkie elementy z trzeciego wiersza macierzy 4x4"
      ],
      "metadata": {
        "id": "HQbR0zn2xY_n"
      }
    },
    {
      "cell_type": "code",
      "source": [
        "third_row = identity_matrix[2, :]\n",
        "\n",
        "assert np.all(third_row == np.array([0., 0., 1., 0.])), \"Elementy powinny odpowiadać trzeciemu wierszowi macierzy jednostkowej.\""
      ],
      "metadata": {
        "id": "GALZ4lOExGmo"
      },
      "execution_count": 13,
      "outputs": []
    },
    {
      "cell_type": "markdown",
      "source": [
        "### Wektoryzacja + broadcasting\n",
        "\n",
        "![broadcasting_1.png](data:image/png;base64,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)\n",
        "\n",
        "Broadcasting wymagania:\n",
        "* identyczne wymiary macierzy lub tablic\n",
        "* jeden z wymiarów = 1"
      ],
      "metadata": {
        "id": "mAVfny4Zxs42"
      }
    },
    {
      "cell_type": "markdown",
      "source": [
        "#### 11. Wygeneruj dwie jednowymiarowe tablice o długości 5 wypełnione losowymi liczbami całkowitymi, a następnie wykonaj dodawanie element po elemencie."
      ],
      "metadata": {
        "id": "DzpjjTdIyrHZ"
      }
    },
    {
      "cell_type": "code",
      "source": [
        "arr1 = np.random.randint(0, 10, 5)\n",
        "arr2 = np.random.randint(0, 10, 5)\n",
        "sum_arr = arr1 + arr2\n",
        "\n",
        "assert np.all(sum_arr == (arr1 + arr2)), \"Suma tablic powinna być dodawaniem element po elemencie arr1 i arr2.\""
      ],
      "metadata": {
        "id": "5V26n__HxiHC"
      },
      "execution_count": 14,
      "outputs": []
    },
    {
      "cell_type": "markdown",
      "source": [
        "#### 12. Utwórz macierz 2x3 i znormalizuj ją, odejmując średnią i dzieląc przez odchylenie standardowe."
      ],
      "metadata": {
        "id": "uoJoXH--yvFZ"
      }
    },
    {
      "cell_type": "code",
      "source": [
        "matrix_2x3 = np.random.rand(2, 3)\n",
        "mean = np.mean(matrix_2x3)\n",
        "std_dev = np.std(matrix_2x3)\n",
        "normalized_matrix = (matrix_2x3 - mean) / std_dev\n",
        "\n",
        "assert np.isclose(np.mean(normalized_matrix), 0) and np.isclose(np.std(normalized_matrix), 1), \"Macierz powinna być znormalizowana ze średnią=0 i odchyleniem=1.\""
      ],
      "metadata": {
        "id": "5zVebJxfyt4O"
      },
      "execution_count": 15,
      "outputs": []
    },
    {
      "cell_type": "markdown",
      "source": [
        "#### 13. Pomnóż każdy wiersz macierzy 3x3 przez jednowymiarową tablicę o długości 3, używając broadcastingu."
      ],
      "metadata": {
        "id": "JCUFRdWRy16N"
      }
    },
    {
      "cell_type": "code",
      "source": [
        "matrix_3x3 = np.random.rand(3, 3)\n",
        "vector_3 = np.array([1, 2, 3])\n",
        "multiplied_matrix = matrix_3x3 * vector_3\n",
        "\n",
        "assert np.all(multiplied_matrix == (matrix_3x3 * vector_3)), \"Każdy wiersz macierzy powinien być pomnożony przez jednowymiarową tablicę.\""
      ],
      "metadata": {
        "id": "boKyFWrByzSq"
      },
      "execution_count": 16,
      "outputs": []
    },
    {
      "cell_type": "markdown",
      "source": [
        "#### 14. Oblicz iloczyn skalarny dwóch wektorów o długości 4."
      ],
      "metadata": {
        "id": "f2Gk_qNCy74E"
      }
    },
    {
      "cell_type": "code",
      "source": [
        "vector1 = np.array([1, 2, 3, 4])\n",
        "vector2 = np.array([4, 3, 2, 1])\n",
        "dot_product = np.dot(vector1, vector2)\n",
        "\n",
        "assert dot_product == 20, \"Iloczyn skalarny powinien wynosić 20.\""
      ],
      "metadata": {
        "id": "hzmHNkSwy5W0"
      },
      "execution_count": 17,
      "outputs": []
    },
    {
      "cell_type": "markdown",
      "source": [
        "####  15. Dodaj stały wektor do każdego wiersza macierzy, używając broadcastingu."
      ],
      "metadata": {
        "id": "bOVfUpGkzLEc"
      }
    },
    {
      "cell_type": "code",
      "source": [
        "matrix = np.array([[1, 2, 3], [4, 5, 6], [7, 8, 9]])\n",
        "vector = np.array([1, 1, 1])\n",
        "added_matrix = matrix + vector\n",
        "\n",
        "assert np.all(added_matrix == (matrix + vector)), \"Każdy wiersz macierzy powinien być dodany do wektora.\""
      ],
      "metadata": {
        "id": "NiHXN_sdzAkR"
      },
      "execution_count": 18,
      "outputs": []
    },
    {
      "cell_type": "markdown",
      "source": [
        "### Brakujące dane"
      ],
      "metadata": {
        "id": "Br5obuQKzloE"
      }
    },
    {
      "cell_type": "markdown",
      "source": [
        "#### 16. Utwórz jednowymiarową tablicę z 10 elementami, w której dwa elementy są np.nan."
      ],
      "metadata": {
        "id": "SpQ1dYPazryj"
      }
    },
    {
      "cell_type": "code",
      "source": [
        "arr_with_nan = np.array([1, 2, 3, 4, np.nan, 6, 7, 8, np.nan, 10])\n",
        "\n",
        "assert np.isnan(arr_with_nan).sum() == 2, \"Tablica powinna zawierać dwie wartości np.nan.\""
      ],
      "metadata": {
        "id": "dIHFEIWPzObx"
      },
      "execution_count": 19,
      "outputs": []
    },
    {
      "cell_type": "markdown",
      "source": [
        "#### 17. Zamień wszystkie wartości np.nan na średnią pozostałych elementów w tablicy."
      ],
      "metadata": {
        "id": "A7mJ0K-pzwRg"
      }
    },
    {
      "cell_type": "code",
      "source": [
        "mean_value = np.nanmean(arr_with_nan)\n",
        "arr_with_nan[np.isnan(arr_with_nan)] = mean_value\n",
        "\n",
        "assert np.isnan(arr_with_nan).sum() == 0, \"Wszystkie wartości np.nan powinny być zastąpione.\""
      ],
      "metadata": {
        "id": "4_LQwd5HzufY"
      },
      "execution_count": 20,
      "outputs": []
    },
    {
      "cell_type": "markdown",
      "source": [
        "#### 18. Znajdź indeksy elementów nieskończonych w tablicy używając np.isinf()."
      ],
      "metadata": {
        "id": "chkSFqaez4Xu"
      }
    },
    {
      "cell_type": "code",
      "source": [
        "arr_with_inf = np.array([1, np.inf, 3, -np.inf, 5])\n",
        "inf_indices = np.where(np.isinf(arr_with_inf))[0]\n",
        "\n",
        "assert np.all(inf_indices == [1, 3])"
      ],
      "metadata": {
        "id": "3b3VGjEJz0gP"
      },
      "execution_count": 21,
      "outputs": []
    },
    {
      "cell_type": "markdown",
      "source": [
        "#### 19. Usuń wszystkie brakujące (np.nan) lub nieskończone (np.inf) wartości z tablicy."
      ],
      "metadata": {
        "id": "pgi500CY0A3q"
      }
    },
    {
      "cell_type": "code",
      "source": [
        "arr_with_issues = np.array([1, np.nan, 3, np.inf, 5])\n",
        "cleaned_arr = arr_with_issues[~np.isnan(arr_with_issues) & ~np.isinf(arr_with_issues)]\n",
        "\n",
        "assert np.isnan(cleaned_arr).sum() == 0 and np.isinf(cleaned_arr).sum() == 0, \"Wszystkie brakujące i nieskończone wartości powinny być usunięte.\""
      ],
      "metadata": {
        "id": "4tEjXoFdz-E1"
      },
      "execution_count": 22,
      "outputs": []
    },
    {
      "cell_type": "markdown",
      "source": [
        "#### 20. Oblicz medianę tablicy, ignorując wartości np.nan."
      ],
      "metadata": {
        "id": "-oakGcMv0LOT"
      }
    },
    {
      "cell_type": "code",
      "source": [
        "arr_with_nan = np.array([1, 2, 3, np.nan, 5])\n",
        "median_value = np.nanmedian(arr_with_nan)\n",
        "\n",
        "assert median_value == 2.5, \"Mediana powinna wynosić 2.5, ignorując wartości np.nan.\""
      ],
      "metadata": {
        "id": "WpB-tD570D-M"
      },
      "execution_count": 23,
      "outputs": []
    },
    {
      "cell_type": "markdown",
      "source": [
        "### Popularne operacje matematyczne"
      ],
      "metadata": {
        "id": "VGxdCN9Q0aDR"
      }
    },
    {
      "cell_type": "markdown",
      "source": [
        "#### 21. Oblicz sumę, średnią i odchylenie standardowe jednowymiarowej tablicy 20 losowych liczb całkowitych."
      ],
      "metadata": {
        "id": "Q2gCFKk-0guS"
      }
    },
    {
      "cell_type": "code",
      "source": [
        "arr_20 = np.random.randint(0, 100, 20)\n",
        "arr_sum = np.sum(arr_20)\n",
        "arr_mean = np.mean(arr_20)\n",
        "arr_std = np.std(arr_20)\n",
        "\n",
        "assert isinstance(arr_sum, np.int64) and isinstance(arr_mean, float) and isinstance(arr_std, float), \"Wartości powinny być odpowiednio int, float i float.\""
      ],
      "metadata": {
        "id": "lgmnluzv0Nw-"
      },
      "execution_count": 24,
      "outputs": []
    },
    {
      "cell_type": "markdown",
      "source": [
        "#### 22. Znajdź minimum i maksimum oraz odpowiadające im indeksy w dwuwymiarowej tablicy."
      ],
      "metadata": {
        "id": "jTb-2QOd0wem"
      }
    },
    {
      "cell_type": "code",
      "source": [
        "two_dim_arr = np.random.randint(0, 100, (5, 5))\n",
        "min_val = np.min(two_dim_arr)\n",
        "max_val = np.max(two_dim_arr)\n",
        "min_idx = np.unravel_index(np.argmin(two_dim_arr), two_dim_arr.shape)\n",
        "max_idx = np.unravel_index(np.argmax(two_dim_arr), two_dim_arr.shape)\n",
        "\n",
        "assert min_val == two_dim_arr[min_idx] and max_val == two_dim_arr[max_idx]"
      ],
      "metadata": {
        "id": "1VHwv22G0kD4"
      },
      "execution_count": 25,
      "outputs": []
    },
    {
      "cell_type": "markdown",
      "source": [
        "#### 23. Wykonaj mnożenie macierzy na dwóch macierzach o wymiarach 2x3 i 3x2."
      ],
      "metadata": {
        "id": "km3cLgUL027x"
      }
    },
    {
      "cell_type": "code",
      "source": [
        "mat1 = np.random.randint(0, 10, (2, 3))\n",
        "mat2 = np.random.randint(0, 10, (3, 2))\n",
        "result_mat = np.dot(mat1, mat2)\n",
        "\n",
        "assert result_mat.shape == (2, 2), \"Wynikowa macierz powinna mieć wymiary 2x2.\""
      ],
      "metadata": {
        "id": "VNfIHCU301LJ"
      },
      "execution_count": 26,
      "outputs": []
    },
    {
      "cell_type": "markdown",
      "source": [
        "#### 24. Utwórz maskę logiczną dla danej jednowymiarowej tablicy, aby odfiltrować elementy większe niż określony próg."
      ],
      "metadata": {
        "id": "c4a8e_f81Ayg"
      }
    },
    {
      "cell_type": "code",
      "source": [
        "one_dim_arr = np.random.randint(0, 100, 20)\n",
        "threshold = 50\n",
        "boolean_mask = one_dim_arr > threshold\n",
        "\n",
        "assert np.all(one_dim_arr[boolean_mask] > threshold), \"Wszystkie elementy po filtracji powinny być większe niż próg.\""
      ],
      "metadata": {
        "id": "Rpe26AJ906m7"
      },
      "execution_count": 27,
      "outputs": []
    },
    {
      "cell_type": "markdown",
      "source": [
        "### Grupowanie i statystyka opisowa\n",
        "\n",
        "#### 25. Utwórz dwuwymiarową tablicę z losowymi liczbami całkowitymi i oblicz sumy wzdłuż wierszy i kolumn."
      ],
      "metadata": {
        "id": "qKOl8G-c-2oX"
      }
    },
    {
      "cell_type": "code",
      "source": [
        "two_dim_arr = np.random.randint(0, 100, (5, 5))\n",
        "row_sums = np.sum(two_dim_arr, axis=1)\n",
        "col_sums = np.sum(two_dim_arr, axis=0)\n",
        "\n",
        "assert row_sums.shape[0] == two_dim_arr.shape[0] and col_sums.shape[0] == two_dim_arr.shape[1], \"Niepoprawne wymiary sum wierszy i kolumn.\""
      ],
      "metadata": {
        "id": "uFL8kGIM1EMe"
      },
      "execution_count": 28,
      "outputs": []
    },
    {
      "cell_type": "markdown",
      "source": [
        "#### 26. Wygeneruj jednowymiarową tablicę z 20 elementami i oblicz sumę kroczącą dla wszystkich elementów."
      ],
      "metadata": {
        "id": "sTzbP4V2_YHk"
      }
    },
    {
      "cell_type": "code",
      "source": [
        "one_dim_arr = np.random.randint(0, 100, 20)\n",
        "cum_sum = np.cumsum(one_dim_arr)\n",
        "\n",
        "assert cum_sum[-1] == np.sum(one_dim_arr)"
      ],
      "metadata": {
        "id": "lrGhH7HI-902"
      },
      "execution_count": 29,
      "outputs": []
    },
    {
      "cell_type": "markdown",
      "source": [
        "#### 27. Znajdź wartości maksymalne i minimalne w tablicy w każdej z kolumn"
      ],
      "metadata": {
        "id": "gUi4ol2g_465"
      }
    },
    {
      "cell_type": "code",
      "source": [
        "two_dim_arr = np.random.randint(0, 100, (4, 4))\n",
        "axis = 0\n",
        "max_vals = np.max(two_dim_arr, axis=axis)\n",
        "min_vals = np.min(two_dim_arr, axis=axis)\n",
        "\n",
        "assert max_vals.shape[0] == two_dim_arr.shape[1] and min_vals.shape[0] == two_dim_arr.shape[1], \"Niepoprawne wymiary wartości maksymalnych i minimalnych.\""
      ],
      "metadata": {
        "id": "2_KWgUv0_h6w"
      },
      "execution_count": 30,
      "outputs": []
    },
    {
      "cell_type": "markdown",
      "source": [
        "#### 28. Oblicz 90. percentyl jednowymiarowej tablicy z 100 losowymi elementami."
      ],
      "metadata": {
        "id": "HEghQOwIAOpY"
      }
    },
    {
      "cell_type": "code",
      "source": [
        "one_hundred_elements = np.random.rand(100)\n",
        "percentile_90 = np.percentile(one_hundred_elements, 90)\n",
        "\n",
        "assert 0 <= percentile_90 <= 1, \"Percentyl 90 powinien być pomiędzy 0 a 1.\""
      ],
      "metadata": {
        "id": "1MYeI_gWAFq4"
      },
      "execution_count": 31,
      "outputs": []
    },
    {
      "cell_type": "markdown",
      "source": [
        "#### 29. Utwórz macierz 3x3 i znajdź sumę jej elementów przekątnych."
      ],
      "metadata": {
        "id": "uQSKDJH2AXfV"
      }
    },
    {
      "cell_type": "code",
      "source": [
        "three_by_three = np.random.randint(0, 100, (3, 3))\n",
        "diag_sum = np.trace(three_by_three)\n",
        "\n",
        "\n",
        "assert diag_sum == np.sum(np.diag(three_by_three)), \"Niepoprawna suma elementów przekątnych.\""
      ],
      "metadata": {
        "id": "gilmTsUcAR8k"
      },
      "execution_count": 32,
      "outputs": []
    },
    {
      "cell_type": "markdown",
      "source": [
        "### Zaawansowane indeksowanie"
      ],
      "metadata": {
        "id": "kgWmJPDRAhgf"
      }
    },
    {
      "cell_type": "markdown",
      "source": [
        "#### 30. Wygeneruj macierz 5x5 i wyodrębnij elementy na indeksach (0,0), (1,2), (2,2), (3,4)."
      ],
      "metadata": {
        "id": "oCYpcRZVAlQ3"
      }
    },
    {
      "cell_type": "code",
      "source": [
        "matrix_5x5 = np.random.randint(0, 100, (5, 5))\n",
        "extracted_elements = matrix_5x5[(0, 1, 2, 3), (0, 2, 2, 4)]\n",
        "\n",
        "assert np.all(extracted_elements == [matrix_5x5[0, 0], matrix_5x5[1, 2], matrix_5x5[2, 2], matrix_5x5[3, 4]]), \"Elementy nie zostały poprawnie wyodrębnione.\""
      ],
      "metadata": {
        "id": "S1tmCAHAAZzj"
      },
      "execution_count": 33,
      "outputs": []
    },
    {
      "cell_type": "markdown",
      "source": [
        "#### 31. Utwórz jednowymiarową tablicę i użyj indeksowania logicznego do wyodrębnienia wszystkich elementów większych od mediany tablicy."
      ],
      "metadata": {
        "id": "0Qu4Mwf8Bz-A"
      }
    },
    {
      "cell_type": "code",
      "source": [
        "one_dim_array = np.random.rand(10)\n",
        "median_val = np.median(one_dim_array)\n",
        "elements_gt_median = one_dim_array[one_dim_array > median_val]\n",
        "\n",
        "assert np.all(elements_gt_median > median_val), \"Wyodrębnione elementy powinny być większe od mediany.\""
      ],
      "metadata": {
        "id": "rzsIR3F7By90"
      },
      "execution_count": 34,
      "outputs": []
    },
    {
      "cell_type": "markdown",
      "source": [
        "#### 32. Utwórz macierz 4x4 i zamień jej ostatnią kolumnę na nową kolumnę wektora jedynek."
      ],
      "metadata": {
        "id": "qCrDrlViB8hv"
      }
    },
    {
      "cell_type": "code",
      "source": [
        "matrix_4x4 = np.random.randint(0, 100, (4, 4))\n",
        "matrix_4x4[:, -1] = 1\n",
        "\n",
        "assert np.all(matrix_4x4[:, -1] == 1), \"Ostatnia kolumna powinna składać się tylko z jedynek.\""
      ],
      "metadata": {
        "id": "wCzwvehEB6gy"
      },
      "execution_count": 35,
      "outputs": []
    },
    {
      "cell_type": "markdown",
      "source": [
        "#### 33. Wygeneruj dwuwymiarową tablicę i wyodrębnij wszystkie wiersze, w których suma elementów jest większa od 100."
      ],
      "metadata": {
        "id": "T4BXysTsB_9F"
      }
    },
    {
      "cell_type": "code",
      "source": [
        "two_dim_array = np.random.randint(0, 100, (5, 5))\n",
        "rows_gt_value = two_dim_array[np.sum(two_dim_array, axis=1) > 100]\n",
        "\n",
        "assert np.all(np.sum(rows_gt_value, axis=1) > 100), \"Suma wierszy powinna być większa niż 100.\""
      ],
      "metadata": {
        "id": "Uj0O7imsB_NG"
      },
      "execution_count": 36,
      "outputs": []
    },
    {
      "cell_type": "markdown",
      "source": [
        "### Częste operacje na macierzach i tablicach"
      ],
      "metadata": {
        "id": "mwEB4kAqCnIN"
      }
    },
    {
      "cell_type": "markdown",
      "source": [
        "#### 34. Utwórz dwuwymiarową tablicę i znormalizuj każdą kolumnę tak, aby miała średnią równą 0 i odchylenie standardowe równą 1."
      ],
      "metadata": {
        "id": "1XRFN2CXCuMu"
      }
    },
    {
      "cell_type": "code",
      "source": [
        "two_dim_array = np.random.rand(4, 3)\n",
        "normalized_array = (two_dim_array - np.mean(two_dim_array, axis=0)) / np.std(two_dim_array, axis=0)\n",
        "\n",
        "assert np.allclose(np.mean(normalized_array, axis=0), 0) and np.allclose(np.std(normalized_array, axis=0), 1)"
      ],
      "metadata": {
        "id": "r2_DOzLFCXFC"
      },
      "execution_count": 37,
      "outputs": []
    },
    {
      "cell_type": "markdown",
      "source": [
        "#### 35. Wygeneruj dwie tablice losowych liczb całkowitych i znajdź ich element-wise minimum i maksimum."
      ],
      "metadata": {
        "id": "iQAp1sntGJ2D"
      }
    },
    {
      "cell_type": "code",
      "source": [
        "array1 = np.random.randint(0, 100, 10)\n",
        "array2 = np.random.randint(0, 100, 10)\n",
        "elementwise_min = np.minimum(array1, array2)\n",
        "elementwise_max = np.maximum(array1, array2)\n",
        "\n",
        "assert np.all(elementwise_min <= elementwise_max)"
      ],
      "metadata": {
        "id": "xvUqyGp-F7iQ"
      },
      "execution_count": 38,
      "outputs": []
    },
    {
      "cell_type": "markdown",
      "source": [
        "#### 36. Użyj funkcji clip, aby ograniczyć zakres elementów w losowej tablicy do dolnej i górnej granicy."
      ],
      "metadata": {
        "id": "qQezSb-vGQuc"
      }
    },
    {
      "cell_type": "code",
      "source": [
        "random_array = np.random.randint(-10, 10, 10)\n",
        "clipped_array = np.clip(random_array, -5, 5)\n",
        "\n",
        "assert np.all(clipped_array >= -5) and np.all(clipped_array <= 5), \"Zakres elementów jest niepoprawny.\""
      ],
      "metadata": {
        "id": "ms7WN9wVGNQ1"
      },
      "execution_count": 39,
      "outputs": []
    },
    {
      "cell_type": "markdown",
      "source": [
        "## Pandas"
      ],
      "metadata": {
        "id": "GVSTGfWhHTZ4"
      }
    },
    {
      "cell_type": "code",
      "source": [
        "!pip3 install pandas==2.1.1"
      ],
      "metadata": {
        "colab": {
          "base_uri": "https://localhost:8080/"
        },
        "id": "GMEFqnqBGTvH",
        "outputId": "f0c80e0d-259d-4400-c9d2-c48c3f9972ec"
      },
      "execution_count": 40,
      "outputs": [
        {
          "output_type": "stream",
          "name": "stdout",
          "text": [
            "Requirement already satisfied: pandas==2.1.1 in /usr/local/lib/python3.10/dist-packages (2.1.1)\n",
            "Requirement already satisfied: numpy>=1.22.4 in /usr/local/lib/python3.10/dist-packages (from pandas==2.1.1) (1.26.0)\n",
            "Requirement already satisfied: python-dateutil>=2.8.2 in /usr/local/lib/python3.10/dist-packages (from pandas==2.1.1) (2.8.2)\n",
            "Requirement already satisfied: pytz>=2020.1 in /usr/local/lib/python3.10/dist-packages (from pandas==2.1.1) (2023.3.post1)\n",
            "Requirement already satisfied: tzdata>=2022.1 in /usr/local/lib/python3.10/dist-packages (from pandas==2.1.1) (2023.3)\n",
            "Requirement already satisfied: six>=1.5 in /usr/local/lib/python3.10/dist-packages (from python-dateutil>=2.8.2->pandas==2.1.1) (1.16.0)\n"
          ]
        }
      ]
    },
    {
      "cell_type": "code",
      "source": [
        "import pandas as pd"
      ],
      "metadata": {
        "id": "tspVgT5MK-Yi"
      },
      "execution_count": 41,
      "outputs": []
    },
    {
      "cell_type": "code",
      "source": [
        "pd.__version__"
      ],
      "metadata": {
        "colab": {
          "base_uri": "https://localhost:8080/",
          "height": 35
        },
        "id": "xG0BQ5MULFRp",
        "outputId": "845e1b11-c1e6-43f6-d9af-4300a8a865b4"
      },
      "execution_count": 42,
      "outputs": [
        {
          "output_type": "execute_result",
          "data": {
            "text/plain": [
              "'2.1.1'"
            ],
            "application/vnd.google.colaboratory.intrinsic+json": {
              "type": "string"
            }
          },
          "metadata": {},
          "execution_count": 42
        }
      ]
    },
    {
      "cell_type": "markdown",
      "source": [
        "### Pandas i Pythonowe struktury danych"
      ],
      "metadata": {
        "id": "ri_7R6NOLldo"
      }
    },
    {
      "cell_type": "markdown",
      "source": [
        "#### 37. Utwórz Pandas Series z listy. Przypisz pierwszy i trzeci element do zmiennej"
      ],
      "metadata": {
        "id": "jWWAzljoLoAw"
      }
    },
    {
      "cell_type": "code",
      "source": [
        "data = [1, 2, 3, 4, 5]\n",
        "series = pd.Series(data)\n",
        "\n",
        "first_element = series[0]\n",
        "third_element = series[2]\n",
        "\n",
        "assert first_element == 1 and third_element == 3"
      ],
      "metadata": {
        "id": "cM35sXI6LHAa"
      },
      "execution_count": 43,
      "outputs": []
    },
    {
      "cell_type": "markdown",
      "source": [
        "#### 38. Utwórz Pandas DataFrame ze słownika Pythona."
      ],
      "metadata": {
        "id": "JTNDEX0YL4O-"
      }
    },
    {
      "cell_type": "code",
      "source": [
        "data = {'Name': ['Alice', 'Bob'], 'Age': [25, 30]}\n",
        "df = pd.DataFrame(data)\n",
        "\n",
        "assert df['Name'].tolist() == ['Alice', 'Bob'] and df['Age'].tolist() == [25, 30]"
      ],
      "metadata": {
        "id": "03Jw5L1PLzZv"
      },
      "execution_count": 44,
      "outputs": []
    },
    {
      "cell_type": "markdown",
      "source": [
        "#### 39. Utwórz DataFrame za pomocą pd.DataFrame() ze określonymi nazwami kolumn i indeksami"
      ],
      "metadata": {
        "id": "kwZ-GkHBMCe1"
      }
    },
    {
      "cell_type": "code",
      "source": [
        "df = pd.DataFrame(data=[[1, 'apple'], [2, 'banana']], columns=['ID', 'Fruit'], index=['a', 'b'])\n",
        "\n",
        "assert df.columns.tolist() == ['ID', 'Fruit'] and df.index.tolist() == ['a', 'b']"
      ],
      "metadata": {
        "id": "YuErXQgUL-3n"
      },
      "execution_count": 45,
      "outputs": []
    },
    {
      "cell_type": "markdown",
      "source": [
        "#### 40. Przekształć tablicę NumPy na Pandas DataFrame."
      ],
      "metadata": {
        "id": "8fDTQgJqYPus"
      }
    },
    {
      "cell_type": "code",
      "source": [
        "array = np.array([[1, 2], [3, 4]])\n",
        "df_from_array = pd.DataFrame(array, columns=['A', 'B'])\n",
        "\n",
        "assert df_from_array['A'].tolist() == [1, 3] and df_from_array['B'].tolist() == [2, 4]"
      ],
      "metadata": {
        "id": "8VZTMJZFMI0G"
      },
      "execution_count": 46,
      "outputs": []
    },
    {
      "cell_type": "markdown",
      "source": [
        "## Pandas DataFrame"
      ],
      "metadata": {
        "id": "-6dGZnAVYjVp"
      }
    },
    {
      "cell_type": "markdown",
      "source": [
        "#### 41. Utwórz DataFrame z różnymi typami danych (np. liczby całkowite, ciągi znaków, liczby zmiennoprzecinkowe)"
      ],
      "metadata": {
        "id": "4BAp5BJeYrYe"
      }
    },
    {
      "cell_type": "code",
      "source": [
        "df_multitype = pd.DataFrame({\n",
        "    'IntegerColumn': [1, 2, 3],\n",
        "    'StringColumn': ['a', 'b', 'c'],\n",
        "    'FloatColumn': [1.1, 2.2, 3.3]\n",
        "})\n",
        "\n",
        "assert df_multitype.dtypes.tolist() == ['int64', 'object', 'float64']"
      ],
      "metadata": {
        "id": "EqHLAX8kYUSz"
      },
      "execution_count": 47,
      "outputs": []
    },
    {
      "cell_type": "markdown",
      "source": [
        "#### 42. Utwórz DataFrame, używając parametru index do określenia niestandardowych etykiet wierszy.]"
      ],
      "metadata": {
        "id": "RmTguy27Y3sr"
      }
    },
    {
      "cell_type": "code",
      "source": [
        "df_custom_index = pd.DataFrame({'A': [1, 2, 3]}, index=['row1', 'row2', 'row3'])\n",
        "\n",
        "assert df_custom_index.index.tolist() == ['row1', 'row2', 'row3']"
      ],
      "metadata": {
        "id": "kMOQ3hTnYt9a"
      },
      "execution_count": 48,
      "outputs": []
    },
    {
      "cell_type": "markdown",
      "source": [
        "#### 43. Wygeneruj DataFrame z losowej tablicy NumPy."
      ],
      "metadata": {
        "id": "jMFTkXQgZC0c"
      }
    },
    {
      "cell_type": "code",
      "source": [
        "df_random = pd.DataFrame(np.random.rand(3, 3), columns=['X', 'Y', 'Z'])\n",
        "\n",
        "assert df_random.shape == (3, 3)"
      ],
      "metadata": {
        "id": "kKoR2S46Y-L3"
      },
      "execution_count": 49,
      "outputs": []
    },
    {
      "cell_type": "markdown",
      "source": [
        "### Pandas wczytywanie danych z plików\n",
        "\n",
        "URL: https://raw.githubusercontent.com/mwaskom/seaborn-data/master/titanic.csv\n",
        "\n",
        "#### 44. Pobierz przykładowy plik CSV i wczytaj go do DataFrame."
      ],
      "metadata": {
        "id": "ujx6Zq5bZsxM"
      }
    },
    {
      "cell_type": "code",
      "source": [
        "titanic_df = pd.read_csv(\"https://raw.githubusercontent.com/mwaskom/seaborn-data/master/titanic.csv\")\n",
        "\n",
        "assert titanic_df.shape[1] > 0 and titanic_df.shape[0] > 0"
      ],
      "metadata": {
        "id": "VR9XIz0gZQ-O"
      },
      "execution_count": 50,
      "outputs": []
    },
    {
      "cell_type": "markdown",
      "source": [
        "#### 45. Wczytaj kolumny age and fare z pliku CSV"
      ],
      "metadata": {
        "id": "-9zLuJj4Z-XQ"
      }
    },
    {
      "cell_type": "code",
      "source": [
        "selected_cols_df = pd.read_csv(\"https://raw.githubusercontent.com/mwaskom/seaborn-data/master/titanic.csv\", usecols=['age', 'fare'])\n",
        "\n",
        "assert 'age' in selected_cols_df.columns and 'fare' in selected_cols_df.columns"
      ],
      "metadata": {
        "id": "zKc6Xap-Z63_"
      },
      "execution_count": 51,
      "outputs": []
    },
    {
      "cell_type": "markdown",
      "source": [
        "### Podstawy pracy z DataFrame\n",
        "\n",
        "#### 46. Pobierz początek i koniec DataFrame."
      ],
      "metadata": {
        "id": "0xVuBo6WaTNO"
      }
    },
    {
      "cell_type": "code",
      "source": [
        "titanic_df = pd.read_csv(\"https://raw.githubusercontent.com/mwaskom/seaborn-data/master/titanic.csv\")\n",
        "\n",
        "head_df = titanic_df.head()\n",
        "tail_df = titanic_df.tail()\n",
        "\n",
        "assert len(head_df) == 5 and len(tail_df) == 5"
      ],
      "metadata": {
        "id": "oh3Ta4f1aFhj"
      },
      "execution_count": 52,
      "outputs": []
    },
    {
      "cell_type": "markdown",
      "source": [
        "#### 47. Uzyskaj statystyczne podsumowanie DataFrame przy użyciu metody describe."
      ],
      "metadata": {
        "id": "Nac9hNt9anpG"
      }
    },
    {
      "cell_type": "code",
      "source": [
        "stat_summary = titanic_df.describe()\n",
        "\n",
        "assert 'mean' in stat_summary.index and 'std' in stat_summary.index"
      ],
      "metadata": {
        "id": "lExhvVsualY5"
      },
      "execution_count": 53,
      "outputs": []
    },
    {
      "cell_type": "markdown",
      "source": [
        "#### 48. Użyj metody info, aby uzyskać szczegółowe informacje o DataFrame.\n",
        "\n",
        "Uwaga: `info` wypisuje wartości bezpośrednio, bez zwracania wyniku"
      ],
      "metadata": {
        "id": "eqBG19cKax5H"
      }
    },
    {
      "cell_type": "code",
      "source": [
        "titanic_df.info()"
      ],
      "metadata": {
        "colab": {
          "base_uri": "https://localhost:8080/"
        },
        "id": "eH9857bmasST",
        "outputId": "707ffbe2-6ac7-4e5c-8b15-5a1742c9a803"
      },
      "execution_count": 54,
      "outputs": [
        {
          "output_type": "stream",
          "name": "stdout",
          "text": [
            "<class 'pandas.core.frame.DataFrame'>\n",
            "RangeIndex: 891 entries, 0 to 890\n",
            "Data columns (total 15 columns):\n",
            " #   Column       Non-Null Count  Dtype  \n",
            "---  ------       --------------  -----  \n",
            " 0   survived     891 non-null    int64  \n",
            " 1   pclass       891 non-null    int64  \n",
            " 2   sex          891 non-null    object \n",
            " 3   age          714 non-null    float64\n",
            " 4   sibsp        891 non-null    int64  \n",
            " 5   parch        891 non-null    int64  \n",
            " 6   fare         891 non-null    float64\n",
            " 7   embarked     889 non-null    object \n",
            " 8   class        891 non-null    object \n",
            " 9   who          891 non-null    object \n",
            " 10  adult_male   891 non-null    bool   \n",
            " 11  deck         203 non-null    object \n",
            " 12  embark_town  889 non-null    object \n",
            " 13  alive        891 non-null    object \n",
            " 14  alone        891 non-null    bool   \n",
            "dtypes: bool(2), float64(2), int64(4), object(7)\n",
            "memory usage: 92.4+ KB\n"
          ]
        }
      ]
    },
    {
      "cell_type": "markdown",
      "source": [
        "#### 49. Zbadaj typy danych kolumn przy użyciu metody dtypes."
      ],
      "metadata": {
        "id": "xuAjhfRwa8bJ"
      }
    },
    {
      "cell_type": "code",
      "source": [
        "data_types = titanic_df.dtypes\n",
        "\n",
        "assert all([isinstance(t, np.dtype) for t in data_types])"
      ],
      "metadata": {
        "id": "JkpEZ4oOa5yP"
      },
      "execution_count": 55,
      "outputs": []
    },
    {
      "cell_type": "markdown",
      "source": [
        "#### 50. Sprawdź wymiary DataFrame i wylistuj jego kolumny."
      ],
      "metadata": {
        "id": "dkyyc41qbFy7"
      }
    },
    {
      "cell_type": "code",
      "source": [
        "df_shape = titanic_df.shape\n",
        "df_columns = titanic_df.columns.tolist()\n",
        "\n",
        "assert isinstance(df_shape, tuple) and all(isinstance(col, str) for col in df_columns)"
      ],
      "metadata": {
        "id": "h0QAI5aDbCVk"
      },
      "execution_count": 56,
      "outputs": []
    },
    {
      "cell_type": "markdown",
      "source": [
        "### Indexing\n",
        "\n",
        "#### 51. Wybierz piąty wiersz z DataFrame przy użyciu iloc."
      ],
      "metadata": {
        "id": "oVbVGuMRciK5"
      }
    },
    {
      "cell_type": "code",
      "source": [
        "fifth_row = titanic_df.iloc[4]\n",
        "\n",
        "assert fifth_row['age'] == 35.0"
      ],
      "metadata": {
        "id": "gZM5YRgMbLL6"
      },
      "execution_count": 57,
      "outputs": []
    },
    {
      "cell_type": "markdown",
      "source": [
        "#### 52. Użyj loc, aby wybrać wiersze i kolumny według etykiety."
      ],
      "metadata": {
        "id": "FY4wcg1pc51e"
      }
    },
    {
      "cell_type": "code",
      "source": [
        "selected_data = titanic_df.loc[3:6, ['age', 'sex']]\n",
        "\n",
        "assert selected_data.shape == (4, 2)"
      ],
      "metadata": {
        "id": "48xRGpRLcuoC"
      },
      "execution_count": 58,
      "outputs": []
    },
    {
      "cell_type": "markdown",
      "source": [
        "#### 53. Wybierz wiersze z DataFrame na podstawie warunku: wiek > 30"
      ],
      "metadata": {
        "id": "GsPhvMdDdCw0"
      }
    },
    {
      "cell_type": "code",
      "source": [
        "age_gt_30 = titanic_df[titanic_df['age'] > 30]\n",
        "\n",
        "assert age_gt_30['age'].min() > 30"
      ],
      "metadata": {
        "id": "-QBKDKhtc-W6"
      },
      "execution_count": 59,
      "outputs": []
    },
    {
      "cell_type": "markdown",
      "source": [
        "#### 54. Ustaw konkretną kolumnę jako indeks DataFrame."
      ],
      "metadata": {
        "id": "JU847ZOmdRcM"
      }
    },
    {
      "cell_type": "code",
      "source": [
        "set_index_df = titanic_df.set_index('age')\n",
        "\n",
        "assert set_index_df.index.name == 'age'"
      ],
      "metadata": {
        "id": "M1Eyn-FFdIq-"
      },
      "execution_count": 60,
      "outputs": []
    },
    {
      "cell_type": "markdown",
      "source": [
        "### Copy vs. View\n",
        "\n",
        "\n",
        "#### 55. Utwórz widok DataFrame a następnie zmodyfikuj wartość kolumny `age` w pierwszym wierszu widoku (zastąp aktualną wartość liczbą 99)."
      ],
      "metadata": {
        "id": "N9DSC_vxdr1x"
      }
    },
    {
      "cell_type": "code",
      "source": [
        "df_view = titanic_df.head()\n",
        "\n",
        "df_view.loc[0, 'age'] = 99\n",
        "\n",
        "assert titanic_df.loc[0, 'age'] == 99, \"Powinna zmienić się wartość w orignalnym DF\""
      ],
      "metadata": {
        "id": "yaTZaniHdavN"
      },
      "execution_count": 61,
      "outputs": []
    },
    {
      "cell_type": "markdown",
      "source": [
        "#### 56. Utwórz kopię DataFrame za pomocą copy() i zmodyfikuj wartość w kopii. Zmień wartość kolumny `age` w pierwszym wierszu widoku (wstaw 100)."
      ],
      "metadata": {
        "id": "D7kVagTKeIbb"
      }
    },
    {
      "cell_type": "code",
      "source": [
        "df_copy = titanic_df.copy()\n",
        "\n",
        "df_copy.loc[0, 'age'] = 100\n",
        "\n",
        "assert titanic_df.loc[0, 'age'] != 100, \"Wartość w originalnym DF bez zmian\"\n",
        "assert df_copy.loc[0, 'age'] == 100, \"Zmiana w kopii\""
      ],
      "metadata": {
        "id": "ehst769Bd-8Q"
      },
      "execution_count": 62,
      "outputs": []
    },
    {
      "cell_type": "markdown",
      "source": [
        "#### 57. Funkcja `sort_values` sortuje wiersz wg danej kolumny. Użyć parametru `inplace` aby posortować DF bez pozostawiania nieposortowanej kopii"
      ],
      "metadata": {
        "id": "gOCAeb1qesiy"
      }
    },
    {
      "cell_type": "code",
      "source": [
        "titanic_df.sort_values(by='age', inplace=True)\n",
        "\n",
        "titanic_df.reset_index(inplace=True)\n",
        "assert titanic_df['age'][0] == 0.42\n"
      ],
      "metadata": {
        "id": "dERgjVR-ekJi"
      },
      "execution_count": 63,
      "outputs": []
    },
    {
      "cell_type": "markdown",
      "source": [
        "### Zmiana danych w DataFrame\n",
        "\n",
        "#### 58. Dodaj nową kolumnę do istniejącego DataFrame. Nazwa kolumny: 'NewColumn', wartość = kolumna `age` * 2"
      ],
      "metadata": {
        "id": "mkFth8H0gcwK"
      }
    },
    {
      "cell_type": "code",
      "source": [
        "titanic_df['NewColumn'] = titanic_df['age'] * 2\n",
        "\n",
        "assert 'NewColumn' in titanic_df.columns\n"
      ],
      "metadata": {
        "id": "RM2ROKy6kBQj"
      },
      "execution_count": 64,
      "outputs": []
    },
    {
      "cell_type": "markdown",
      "source": [
        "#### 59. Usuń kolumnę `NewColumn` z DataFrame."
      ],
      "metadata": {
        "id": "0bPA_iLekI4E"
      }
    },
    {
      "cell_type": "code",
      "source": [
        "titanic_df.drop('NewColumn', axis=1, inplace=True)\n",
        "\n",
        "assert 'NewColumn' not in titanic_df.columns\n"
      ],
      "metadata": {
        "id": "hydj5OZjkEUo"
      },
      "execution_count": 65,
      "outputs": []
    },
    {
      "cell_type": "markdown",
      "source": [
        "#### 60. Przy użyciu funkcji `apply`, dodaj kolumnę `DoubleAge` zawierającą wiek pomnożony przez 2"
      ],
      "metadata": {
        "id": "tVJb61hUkS-K"
      }
    },
    {
      "cell_type": "code",
      "source": [
        "titanic_df = titanic_df.fillna(0)\n",
        "titanic_df['DoubleAge'] = titanic_df['age'].apply(lambda x: x * 2)\n",
        "\n",
        "\n",
        "assert (titanic_df['DoubleAge'] == titanic_df['age'] * 2).all()\n"
      ],
      "metadata": {
        "id": "Vb4VVf4kkQKj"
      },
      "execution_count": 66,
      "outputs": []
    },
    {
      "cell_type": "markdown",
      "source": [
        "#### 61. Dodaj podany słownik jako nowy wiersz w DF"
      ],
      "metadata": {
        "id": "VT8mk28ak_sR"
      }
    },
    {
      "cell_type": "code",
      "source": [
        "new_row = {'name': 'New Person', 'age': 25, 'sex': 'female'}\n",
        "\n",
        "titanic_df = pd.concat([titanic_df, pd.DataFrame([new_row])], ignore_index=True)\n",
        "\n",
        "assert titanic_df.iloc[-1]['name'] == 'New Person'\n"
      ],
      "metadata": {
        "id": "Y4W8wnQ9kgPk"
      },
      "execution_count": 67,
      "outputs": []
    },
    {
      "cell_type": "markdown",
      "source": [
        "### Praca z pustymi wartościami\n",
        "\n",
        "#### 62. Znajdź wiersze z brakującymi danymi w DataFrame."
      ],
      "metadata": {
        "id": "XjYn2dqamX0D"
      }
    },
    {
      "cell_type": "code",
      "source": [
        "missing_rows = titanic_df[titanic_df.isnull().any(axis=1)]\n",
        "\n",
        "assert missing_rows.equals(titanic_df[titanic_df.isnull().any(axis=1)])\n"
      ],
      "metadata": {
        "id": "_ZJobO_6lLUx"
      },
      "execution_count": 68,
      "outputs": []
    },
    {
      "cell_type": "markdown",
      "source": [
        "#### 63. Usuń wszystkie wiersze z brakującą wartością."
      ],
      "metadata": {
        "id": "lCz6o4prmjzn"
      }
    },
    {
      "cell_type": "code",
      "source": [
        "titanic_df.dropna(inplace=True)\n",
        "\n",
        "assert not titanic_df.isnull().any(axis=1).any()\n"
      ],
      "metadata": {
        "id": "GPvkpoWamgsf"
      },
      "execution_count": 69,
      "outputs": []
    },
    {
      "cell_type": "markdown",
      "source": [
        "#### 64. Zastąp brakujące wartości zerami"
      ],
      "metadata": {
        "id": "YGFHKY8Imw4G"
      }
    },
    {
      "cell_type": "code",
      "source": [
        "titanic_df = pd.read_csv(\"https://raw.githubusercontent.com/mwaskom/seaborn-data/master/titanic.csv\")\n",
        "\n",
        "titanic_df.fillna(0, inplace=True)\n",
        "\n",
        "assert not titanic_df.isna().any().any()"
      ],
      "metadata": {
        "id": "Lrosdqe5mqbC"
      },
      "execution_count": 70,
      "outputs": []
    },
    {
      "cell_type": "markdown",
      "source": [
        "#### 65. Usuń wszystkie zduplikowane wiersze z DataFrame."
      ],
      "metadata": {
        "id": "arVRiN4dm91R"
      }
    },
    {
      "cell_type": "code",
      "source": [
        "titanic_df.drop_duplicates(inplace=True)\n",
        "\n",
        "assert not titanic_df.duplicated().any()\n"
      ],
      "metadata": {
        "id": "bfuitsW3m4u2"
      },
      "execution_count": 71,
      "outputs": []
    },
    {
      "cell_type": "markdown",
      "source": [
        "#### 66. Znajdź i zastąp konkretne wartości w DataFrame.\n",
        "\n",
        "W kolumnie `sex` zastąp wartość `male` przez `M`, a `female` przez `F`"
      ],
      "metadata": {
        "id": "HAAF4ayXnGrg"
      }
    },
    {
      "cell_type": "code",
      "source": [
        "titanic_df['sex'].replace('male', 'M', inplace=True)\n",
        "titanic_df['sex'].replace('female', 'F', inplace=True)\n",
        "\n",
        "assert (titanic_df['sex'] != 'male').all()\n",
        "assert (titanic_df['sex'] != 'female').all()"
      ],
      "metadata": {
        "id": "f4Cs4NtmnCxE"
      },
      "execution_count": 72,
      "outputs": []
    },
    {
      "cell_type": "markdown",
      "source": [
        "### Transformacja danych\n",
        "\n",
        "#### 67. Połącz dwa DataFrame przy użyciu metody merge. Użyć kolumny `key` jako warunku połączenia"
      ],
      "metadata": {
        "id": "sufJ45rIng9F"
      }
    },
    {
      "cell_type": "code",
      "source": [
        "df1 = pd.DataFrame({\"key\": [1, 2, 3], \"A\": ['A1', 'A2', 'A3']})\n",
        "df2 = pd.DataFrame({\"key\": [1, 2, 3], \"B\": ['B1', 'B2', 'B3']})\n",
        "\n",
        "merged_df = pd.merge(df1, df2, on='key')\n",
        "\n",
        "assert merged_df.equals(pd.merge(df1, df2, on='key'))\n"
      ],
      "metadata": {
        "id": "66AAcgwUnZIy"
      },
      "execution_count": 73,
      "outputs": []
    },
    {
      "cell_type": "markdown",
      "source": [
        "#### 68. Dokonaj pionowego złącznia DataFrame `df1 i `df2`\n"
      ],
      "metadata": {
        "id": "uREd0bQLoGoq"
      }
    },
    {
      "cell_type": "code",
      "source": [
        "concatenated = pd.concat([df1, df2], axis=0)\n",
        "\n",
        "assert concatenated.equals(pd.concat([df1, df2], axis=0))\n"
      ],
      "metadata": {
        "id": "Ds0rAt7zn6B1"
      },
      "execution_count": 74,
      "outputs": []
    },
    {
      "cell_type": "markdown",
      "source": [
        "### Optymalizacja operacji na DataFrame\n",
        "\n",
        "#### 69. Filtrowanie przy użyciu `groupby`. Znajdź wszystkie kobiety na liście pasażerów"
      ],
      "metadata": {
        "id": "JvBAcM7MoeIt"
      }
    },
    {
      "cell_type": "code",
      "source": [
        "titanic_df = pd.read_csv(\"https://raw.githubusercontent.com/mwaskom/seaborn-data/master/titanic.csv\")\n",
        "\n",
        "filtered = titanic_df.groupby('sex').get_group('female')\n",
        "\n",
        "assert filtered.equals(titanic_df[titanic_df['sex'] == 'female'])"
      ],
      "metadata": {
        "id": "48GeQ7wloM-o"
      },
      "execution_count": 75,
      "outputs": []
    },
    {
      "cell_type": "markdown",
      "source": [
        "#### 70. Łącznie DF przy użyciu `join` oraz `set_index`"
      ],
      "metadata": {
        "id": "J8bMWqPFpMrS"
      }
    },
    {
      "cell_type": "code",
      "source": [
        "df1 = pd.DataFrame([[\"A\", 1], [\"B\", 2]], columns = [\"col_a\", \"col_b\"])\n",
        "df2 = pd.DataFrame([[\"A\", 3], [\"B\", 4]], columns = [\"col_a\", \"col_c\"])\n",
        "\n",
        "standard_merge = pd.merge(df1, df2, on = \"col_a\", how='inner')\n",
        "\n",
        "df1.set_index(\"col_a\", inplace=True)\n",
        "df2.set_index(\"col_a\", inplace=True)\n",
        "\n",
        "joined = df1.join(df2)\n",
        "\n",
        "assert joined.reset_index().equals(standard_merge)"
      ],
      "metadata": {
        "id": "droEq7YGorI8"
      },
      "execution_count": 76,
      "outputs": []
    },
    {
      "cell_type": "markdown",
      "source": [
        "#### 71. `value_count` zamiast `groupby` + `size`\n",
        "\n",
        "Policz ilu mężczyzn było na Titanicu"
      ],
      "metadata": {
        "id": "h5FWVBCmqKkT"
      }
    },
    {
      "cell_type": "code",
      "source": [
        "titanic_df = pd.read_csv(\"https://raw.githubusercontent.com/mwaskom/seaborn-data/master/titanic.csv\")\n",
        "\n",
        "cnt = titanic_df['sex'].value_counts()['male']\n",
        "\n",
        "assert cnt == len(titanic_df.groupby('sex').get_group('male'))"
      ],
      "metadata": {
        "id": "HAmcrJUqpVOL"
      },
      "execution_count": 77,
      "outputs": []
    },
    {
      "cell_type": "markdown",
      "source": [
        "#### Iterowanie po elementach DF (od najwolniejszego do najszybszego sposobu)\n",
        "\n",
        "Zadanie: do zmiennej `ages` zapis wartości wieku pierwszych 5 osób w DF\n",
        "\n",
        "##### 72. for + iloc"
      ],
      "metadata": {
        "id": "4UMUYy_bq9SE"
      }
    },
    {
      "cell_type": "code",
      "source": [
        "titanic_df = pd.read_csv(\"https://raw.githubusercontent.com/mwaskom/seaborn-data/master/titanic.csv\")\n",
        "\n",
        "data = titanic_df.head()\n",
        "\n",
        "ages = []\n",
        "\n",
        "for i in range(len(data)):\n",
        "  ages.append(data.iloc[i]['age'])\n",
        "\n",
        "assert ages == [22.0, 38.0, 26.0, 35.0, 35.0]"
      ],
      "metadata": {
        "id": "KgmTE-zdqe9r"
      },
      "execution_count": 78,
      "outputs": []
    },
    {
      "cell_type": "markdown",
      "source": [
        "##### 73. iterrows"
      ],
      "metadata": {
        "id": "DtpQklMZroIR"
      }
    },
    {
      "cell_type": "code",
      "source": [
        "titanic_df = pd.read_csv(\"https://raw.githubusercontent.com/mwaskom/seaborn-data/master/titanic.csv\")\n",
        "\n",
        "data = titanic_df.head()\n",
        "\n",
        "ages = []\n",
        "\n",
        "for index, row in data.iterrows():\n",
        "  ages.append(row['age'])\n",
        "\n",
        "assert ages == [22.0, 38.0, 26.0, 35.0, 35.0]"
      ],
      "metadata": {
        "id": "eWIQCoDVrZP6"
      },
      "execution_count": 79,
      "outputs": []
    },
    {
      "cell_type": "markdown",
      "source": [
        "##### 74. itertuples\n",
        "\n",
        "Podpowiedź: którą kolumną jest wiek?"
      ],
      "metadata": {
        "id": "aJH1xntZr69X"
      }
    },
    {
      "cell_type": "code",
      "source": [
        "titanic_df = pd.read_csv(\"https://raw.githubusercontent.com/mwaskom/seaborn-data/master/titanic.csv\")\n",
        "\n",
        "data = titanic_df.head()\n",
        "\n",
        "ages = []\n",
        "\n",
        "for row in data.itertuples():\n",
        "  ages.append(row[4])\n",
        "\n",
        "assert ages == [22.0, 38.0, 26.0, 35.0, 35.0]"
      ],
      "metadata": {
        "id": "NhlPZcdar5pT"
      },
      "execution_count": 80,
      "outputs": []
    },
    {
      "cell_type": "markdown",
      "source": [
        "## Matplotlib"
      ],
      "metadata": {
        "id": "G7krp_z9uRWQ"
      }
    },
    {
      "cell_type": "code",
      "source": [
        "!pip3 install matplotlib==3.8.0"
      ],
      "metadata": {
        "colab": {
          "base_uri": "https://localhost:8080/"
        },
        "id": "9iPRugvUsHrg",
        "outputId": "bcbbc861-7cc5-4d42-816c-146a31eb7cb8"
      },
      "execution_count": 81,
      "outputs": [
        {
          "output_type": "stream",
          "name": "stdout",
          "text": [
            "Requirement already satisfied: matplotlib==3.8.0 in /usr/local/lib/python3.10/dist-packages (3.8.0)\n",
            "Requirement already satisfied: contourpy>=1.0.1 in /usr/local/lib/python3.10/dist-packages (from matplotlib==3.8.0) (1.1.1)\n",
            "Requirement already satisfied: cycler>=0.10 in /usr/local/lib/python3.10/dist-packages (from matplotlib==3.8.0) (0.12.1)\n",
            "Requirement already satisfied: fonttools>=4.22.0 in /usr/local/lib/python3.10/dist-packages (from matplotlib==3.8.0) (4.43.1)\n",
            "Requirement already satisfied: kiwisolver>=1.0.1 in /usr/local/lib/python3.10/dist-packages (from matplotlib==3.8.0) (1.4.5)\n",
            "Requirement already satisfied: numpy<2,>=1.21 in /usr/local/lib/python3.10/dist-packages (from matplotlib==3.8.0) (1.26.0)\n",
            "Requirement already satisfied: packaging>=20.0 in /usr/local/lib/python3.10/dist-packages (from matplotlib==3.8.0) (23.2)\n",
            "Requirement already satisfied: pillow>=6.2.0 in /usr/local/lib/python3.10/dist-packages (from matplotlib==3.8.0) (9.4.0)\n",
            "Requirement already satisfied: pyparsing>=2.3.1 in /usr/local/lib/python3.10/dist-packages (from matplotlib==3.8.0) (3.1.1)\n",
            "Requirement already satisfied: python-dateutil>=2.7 in /usr/local/lib/python3.10/dist-packages (from matplotlib==3.8.0) (2.8.2)\n",
            "Requirement already satisfied: six>=1.5 in /usr/local/lib/python3.10/dist-packages (from python-dateutil>=2.7->matplotlib==3.8.0) (1.16.0)\n"
          ]
        }
      ]
    },
    {
      "cell_type": "code",
      "source": [
        "import matplotlib.pyplot as plt"
      ],
      "metadata": {
        "id": "7FaM4JTWuVuA"
      },
      "execution_count": 82,
      "outputs": []
    },
    {
      "cell_type": "code",
      "source": [
        "titanic_df = pd.read_csv(\"https://raw.githubusercontent.com/mwaskom/seaborn-data/master/titanic.csv\")\n",
        "\n",
        "df = titanic_df.dropna(subset=['age'])\n",
        "\n",
        "plt.hist(df['age'], bins=20, color='purple')\n",
        "\n",
        "plt.title('Distribution of Ages in the Titanic Dataset')\n",
        "\n",
        "plt.xlabel('Age')\n",
        "plt.ylabel('Frequency')\n",
        "\n",
        "plt.show()"
      ],
      "metadata": {
        "colab": {
          "base_uri": "https://localhost:8080/",
          "height": 472
        },
        "id": "ahDKK57DufAZ",
        "outputId": "52cab182-4d30-4a11-a8cc-58160d3165d3"
      },
      "execution_count": 83,
      "outputs": [
        {
          "output_type": "display_data",
          "data": {
            "text/plain": [
              "<Figure size 640x480 with 1 Axes>"
            ],
            "image/png": "[encoded data removed]"
          },
          "metadata": {}
        }
      ]
    },
    {
      "cell_type": "code",
      "source": [
        "df = df.dropna(subset=['age', 'sex'])\n",
        "\n",
        "plt.hist(df[df['sex'] == 'male']['age'], bins=20, alpha=0.5, label='Male', color='blue')\n",
        "plt.hist(df[df['sex'] == 'female']['age'], bins=20, alpha=0.5, label='Female', color='red')\n",
        "\n",
        "plt.title('Distribution of Ages by Gender in the Titanic Dataset')\n",
        "\n",
        "plt.xlabel('Age')\n",
        "plt.ylabel('Frequency')\n",
        "\n",
        "plt.legend(loc='upper right')\n",
        "\n",
        "plt.show()"
      ],
      "metadata": {
        "colab": {
          "base_uri": "https://localhost:8080/",
          "height": 472
        },
        "id": "9q41vcBCvolb",
        "outputId": "9cab7a33-484c-4921-c924-7a0e3c0c4a95"
      },
      "execution_count": 84,
      "outputs": [
        {
          "output_type": "display_data",
          "data": {
            "text/plain": [
              "<Figure size 640x480 with 1 Axes>"
            ],
            "image/png": "[encoded data removed]"
          },
          "metadata": {}
        }
      ]
    },
    {
      "cell_type": "code",
      "source": [
        "grouped = df.groupby(['sex', 'survived']).size().unstack(fill_value=0)\n",
        "\n",
        "# Przygotowanie danych\n",
        "labels = grouped.index.tolist()\n",
        "survived = grouped[1].tolist()\n",
        "not_survived = grouped[0].tolist()\n",
        "\n",
        "# oś x - wartości\n",
        "x = np.arange(len(labels))\n",
        "width = 0.35\n",
        "\n",
        "# oba wykresy\n",
        "fig, ax = plt.subplots()\n",
        "rects1 = ax.bar(x - width/2, survived, width, label='Survived', color='green')\n",
        "rects2 = ax.bar(x + width/2, not_survived, width, label='Not Survived', color='red')\n",
        "\n",
        "# opisy osi i nagłówek\n",
        "ax.set_ylabel('Number of People')\n",
        "ax.set_xlabel('Gender')\n",
        "ax.set_title('Survival Rates of Men and Women on the Titanic')\n",
        "ax.set_xticks(x)\n",
        "ax.set_xticklabels(labels)\n",
        "ax.legend()\n",
        "\n",
        "# wartość liczbowa nad wykresem\n",
        "for rect in rects1 + rects2:\n",
        "    height = rect.get_height()\n",
        "    ax.annotate(f'{height}',\n",
        "                xy=(rect.get_x() + rect.get_width() / 2, height),\n",
        "                xytext=(0, 3),  # offset\n",
        "                textcoords=\"offset points\",\n",
        "                ha='center', va='bottom')\n",
        "\n",
        "\n",
        "plt.show()\n"
      ],
      "metadata": {
        "colab": {
          "base_uri": "https://localhost:8080/",
          "height": 472
        },
        "id": "LinDLlqOwRZ5",
        "outputId": "acda469a-ce28-4727-90ac-21e49326dbb3"
      },
      "execution_count": 85,
      "outputs": [
        {
          "output_type": "display_data",
          "data": {
            "text/plain": [
              "<Figure size 640x480 with 1 Axes>"
            ],
            "image/png": "[encoded data removed]"
          },
          "metadata": {}
        }
      ]
    },
    {
      "cell_type": "code",
      "source": [],
      "metadata": {
        "id": "X2NYQZTAxXeC"
      },
      "execution_count": 85,
      "outputs": []
    }
  ]
}